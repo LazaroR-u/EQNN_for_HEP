{
 "cells": [
  {
   "cell_type": "code",
   "execution_count": 47,
   "metadata": {},
   "outputs": [],
   "source": [
    "from QCNN_circuit import QCNN\n",
    "import data\n",
    "import embedding\n",
    "import matplotlib.pyplot as plt\n",
    "import numpy as np\n",
    "from Training import circuit_training\n",
    "from Benchmarking import accuracy_test, round_predictions_f\n",
    "from sklearn.metrics import confusion_matrix, ConfusionMatrixDisplay"
   ]
  },
  {
   "cell_type": "code",
   "execution_count": 48,
   "metadata": {},
   "outputs": [
    {
     "name": "stdout",
     "output_type": "stream",
     "text": [
      "(12665, 16, 16, 1)\n"
     ]
    }
   ],
   "source": [
    "\"\"\"\n",
    "Here are possible combinations of benchmarking user could try.\n",
    "Unitaries: ['U_TTN', 'U2_equiv', 'U4_equiv', 'U_5', 'U_6', 'U_9', 'U_13', 'U_14', 'U_15', 'U_SO4', 'U_SU4', 'U_SU4_no_pooling', 'U_SU4_1D', 'U_9_1D']\n",
    "U_num_params: [2, 6, 6, 10, 10, 2, 6, 6, 4, 6, 15, 15, 15, 2]\n",
    "Encodings: ['img16x16x1','resize256', 'pca8', 'autoencoder8', 'pca16-compact', 'autoencoder16-compact', 'pca32-1', 'autoencoder32-1',\n",
    "            'pca16-1', 'autoencoder16-1', 'pca30-1', 'autoencoder30-1', 'pca12-1', 'autoencoder12-1']\n",
    "dataset: 'mnist' or 'fashion_mnist'\n",
    "circuit: 'QCNN' or 'Hierarchical'\n",
    "cost_fn: 'mse' or 'cross_entropy'\n",
    "Note: when using 'mse' as cost_fn binary=\"True\" is recommended, when using 'cross_entropy' as cost_fn must be binary=\"False\".\n",
    "\"\"\"\n",
    "\n",
    "# invariant testings\n",
    "\n",
    "# U4_equiv is not invariant with mse cost function\n",
    "# U4_equiv is invariant only under reflections over Y and almost X using cross_entropy\n",
    "\n",
    "# U2_equiv is invariant under p4m using MSE\n",
    "# U2_equiv is invariant under reflections over X using cross_entropy \n",
    "\n",
    "\n",
    "params = np.random.random(18)\n",
    "U_params = 6\n",
    "U = \"U2_equiv\"\n",
    "embedding_type = \"Equivariant-Amplitude\"\n",
    "circuit = \"QCNN\"\n",
    "cost_fn = \"mse\"\n",
    "binary = True\n",
    "\n",
    "X_train, X_test, Y_train, Y_test = data.data_load_and_process( \"mnist\", [0,1], \"img16x16x1\", binary)\n",
    "\n",
    "print(X_train.shape)"
   ]
  },
  {
   "cell_type": "code",
   "execution_count": 49,
   "metadata": {},
   "outputs": [
    {
     "name": "stdout",
     "output_type": "stream",
     "text": [
      " Output with Probabilities for Original Image: 0.06483959990126581\n",
      " Output with Probabilities for Image Reflected over Y-axis: 0.06483959990126581\n",
      " Output with Probabilities for Image Reflected over X-axis: 0.06483959990126581\n",
      " Output with Probabilities for Image Rotated 90 Degrees: 0.06483959990126588\n"
     ]
    }
   ],
   "source": [
    "#data and transformed data\n",
    "matrix = np.array(X_train[0])\n",
    "matrix_reflected_y = np.fliplr(matrix) # Image Reflected over Y-axis\n",
    "matrix_reflected_x = np.flipud(matrix) # Image Reflected over X-axis\n",
    "matrix_rotated_90 = np.rot90(matrix) # Image rotated 90 degrees\n",
    "\n",
    "\n",
    "result1 = QCNN(matrix, params, U, U_params, embedding_type, cost_fn)\n",
    "result2 = QCNN(matrix_reflected_y, params,U, U_params, embedding_type, cost_fn)\n",
    "result3 = QCNN(matrix_reflected_x, params, U, U_params, embedding_type, cost_fn)\n",
    "result4 = QCNN(matrix_rotated_90, params, U, U_params, embedding_type, cost_fn)\n",
    "\n",
    "print(f\" Output with Probabilities for Original Image: {result1}\")\n",
    "print(f\" Output with Probabilities for Image Reflected over Y-axis: {result2}\")\n",
    "print(f\" Output with Probabilities for Image Reflected over X-axis: {result3}\")\n",
    "print(f\" Output with Probabilities for Image Rotated 90 Degrees: {result4}\")"
   ]
  },
  {
   "cell_type": "code",
   "execution_count": 50,
   "metadata": {},
   "outputs": [
    {
     "name": "stdout",
     "output_type": "stream",
     "text": [
      "iteration:  0  cost:  1.2192528715213948\n",
      "iteration:  5  cost:  0.9948940972985173\n",
      "iteration:  10  cost:  0.954610245179218\n",
      "iteration:  15  cost:  0.8868525865725094\n",
      "iteration:  20  cost:  0.8218342198358332\n"
     ]
    }
   ],
   "source": [
    "# train for 10 epochs\n",
    "loss_history, trained_params = circuit_training(X_train, Y_train, U, U_params, embedding_type, circuit, cost_fn, steps = 25)"
   ]
  },
  {
   "cell_type": "code",
   "execution_count": 51,
   "metadata": {},
   "outputs": [
    {
     "data": {
      "text/plain": [
       "0.9536643026004729"
      ]
     },
     "execution_count": 51,
     "metadata": {},
     "output_type": "execute_result"
    }
   ],
   "source": [
    "predictions = [QCNN(x, trained_params, U, U_params, embedding_type, cost_fn) for x in X_test]\n",
    "\n",
    "accuracy = accuracy_test(predictions, Y_test, cost_fn, binary)\n",
    "accuracy"
   ]
  },
  {
   "cell_type": "code",
   "execution_count": 52,
   "metadata": {},
   "outputs": [
    {
     "data": {
      "image/png": "[encoded data removed]",
      "text/plain": [
       "<Figure size 640x480 with 2 Axes>"
      ]
     },
     "metadata": {},
     "output_type": "display_data"
    }
   ],
   "source": [
    "round_predictions = round_predictions_f(predictions, cost_fn)\n",
    "\n",
    "cm = confusion_matrix(Y_test, round_predictions)\n",
    "\n",
    "disp = ConfusionMatrixDisplay(confusion_matrix=cm)\n",
    "disp.plot()\n",
    "plt.show()"
   ]
  }
 ],
 "metadata": {
  "kernelspec": {
   "display_name": "eqnn_github_env",
   "language": "python",
   "name": "python3"
  },
  "language_info": {
   "codemirror_mode": {
    "name": "ipython",
    "version": 3
   },
   "file_extension": ".py",
   "mimetype": "text/x-python",
   "name": "python",
   "nbconvert_exporter": "python",
   "pygments_lexer": "ipython3",
   "version": "3.10.13"
  }
 },
 "nbformat": 4,
 "nbformat_minor": 2
}
