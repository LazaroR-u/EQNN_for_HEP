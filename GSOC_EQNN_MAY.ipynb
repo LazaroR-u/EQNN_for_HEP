{
  "nbformat": 4,
  "nbformat_minor": 0,
  "metadata": {
    "colab": {
      "provenance": [],
      "authorship_tag": "ABX9TyPtw0au/FC3d9m540GBvtcc",
      "include_colab_link": true
    },
    "kernelspec": {
      "name": "python3",
      "display_name": "Python 3"
    },
    "language_info": {
      "name": "python"
    }
  },
  "cells": [
    {
      "cell_type": "markdown",
      "metadata": {
        "id": "view-in-github",
        "colab_type": "text"
      },
      "source": [
        "<a href=\"https://colab.research.google.com/github/LazaroR-u/EQNN/blob/main/GSOC_EQNN_MAY.ipynb\" target=\"_parent\"><img src=\"https://colab.research.google.com/assets/colab-badge.svg\" alt=\"Open In Colab\"/></a>"
      ]
    },
    {
      "cell_type": "markdown",
      "source": [
        "# EQUIVARIANT QUANTUM NEURAL NETWORKS"
      ],
      "metadata": {
        "id": "hYlD3udykmlE"
      }
    },
    {
      "cell_type": "markdown",
      "source": [
        "1. Definir la simetría del problema.\n",
        "2. Construir embeddings de datos que respeten esta simetría.\n",
        "3. Transformar las puertas cuánticas estándar en puertas equiviariantes.\n",
        "4. Implementar capas equiviariantes en el circuito cuántico.\n",
        "5. Asegurar que la salida del modelo sea invariante bajo las transformaciones de simetría."
      ],
      "metadata": {
        "id": "7X6g8OXmTHYs"
      }
    },
    {
      "cell_type": "code",
      "source": [
        "%%capture\n",
        "pip install pennylane==0.35.0"
      ],
      "metadata": {
        "id": "eTTWc1BslnYn"
      },
      "execution_count": null,
      "outputs": []
    },
    {
      "cell_type": "code",
      "source": [
        "import pennylane as qml\n",
        "from pennylane import numpy as np\n",
        "from pennylane.optimize import AdamOptimizer, GradientDescentOptimizer\n",
        "\n",
        "import matplotlib.pyplot as plt\n",
        "from matplotlib import colors"
      ],
      "metadata": {
        "id": "UdFs1KXWkYmY"
      },
      "execution_count": null,
      "outputs": []
    },
    {
      "cell_type": "markdown",
      "source": [
        "# SO(N)\n",
        "The Special Orthogonal group, $SO(n)$, corresponds to the set of all the matrix rotations $R(\\theta)$ in n dimensions. Special comes from the fact that the rotations have determinant +1  and Orthogonal means that $R^T R = \\mathbb{I}$.\n",
        "\n",
        "Furthermore, because SO(n) is a Lie group then it has to obey the following properties:\n",
        "1. Rotation is linear. $R(v+w)=R(v)+R(w)$\n",
        "2. Preserves lengths and angles. $(Rv)\\cdot(Rw) = v\\cdot w$.\n",
        "3. Preserves orientation. $det(R)=+1$\n",
        "\n",
        "$$SO(n) = \\{ R\\in O(n), det(R)=1 \\}$$\n",
        "\n",
        "\n",
        "\n"
      ],
      "metadata": {
        "id": "M6JQbCAx97Z4"
      }
    },
    {
      "cell_type": "markdown",
      "source": [
        "## SO(2)"
      ],
      "metadata": {
        "id": "Ml50mxvSkKaE"
      }
    },
    {
      "cell_type": "markdown",
      "source": [
        "Below is the explanation of the structure of the equivariant quantum neural network with SO(2) symmetry.\n",
        "\n",
        "1. **Data Embedding:**\n",
        "\n",
        "In this layer, classical data is encoded using the `embedding_layer(X)` function, where \\( X \\) is an array of size (10,3), meaning 10 rows and 3 columns. Each row is encoded with a qubit, and each feature with a rotation. The first rotation \\( RZ \\) is repeated twice with the third feature.\n",
        "\n",
        "Example:\n",
        "\n",
        "0 ----RZ(X[0,2])----RY(X[0,0])----RX(X[0,1])----RZ(X[0,2])----\n",
        "\n",
        "1 ----RZ(X[1,2])----RY(X[1,0])----RX(X[1,1])----RZ(X[1,2])----\n",
        "\n",
        "2 ----...\n",
        "\n",
        "3 ----...\n",
        ".\n",
        "\n",
        ".\n",
        "\n",
        ".\n",
        "\n",
        "2. **Matrix rotations and trainable blocks:**\n",
        "\n",
        "In this layer, rotation gates are applied:\n",
        "$$ U = R(\\theta) = \\begin{pmatrix} 1 & 0 &0 &0 \\\\ 0 & \\cos{\\theta} & \\sin{\\theta} & 0 \\\\ 0 & -\\sin{\\theta} & \\cos{\\theta} & 0 \\\\ 0 & 0 & 0 & 1  \\end{pmatrix} $$\n",
        "This operator is of dimension 4x4 because it acts on seemingly two qubits; however, by mathematically expanding this, we observe the following:\n",
        "\n",
        "$$ U(\\theta)(|\\psi_1⟩\\otimes |\\psi_2⟩) = \\begin{pmatrix} 1 & 0 &0 &0 \\\\ 0 & \\cos{\\theta} & \\sin{\\theta} & 0 \\\\ 0 & -\\sin{\\theta} & \\cos{\\theta} & 0 \\\\ 0 & 0 & 0 & 1  \\end{pmatrix} \\begin{pmatrix} |\\psi_1⟩ \\\\ |\\psi_2⟩  \\end{pmatrix} = \\begin{pmatrix} 1 & 0 &0 &0 \\\\ 0 & \\cos{\\theta} & \\sin{\\theta} & 0 \\\\ 0 & -\\sin{\\theta} & \\cos{\\theta} & 0 \\\\ 0 & 0 & 0 & 1  \\end{pmatrix}  \\begin{pmatrix} \\psi_{1_x} \\psi_{2_x} \\\\ a\\psi_{1_x} \\psi_{2_x} + b\\psi_{1_x} \\psi_{2_y} \\\\ -b\\psi_{1_y} \\psi_{2_x} + a\\psi_{1_y} \\psi_{2_y}  \\\\  \\psi_{1_y} \\psi_{2_y}  \\end{pmatrix} $$\n",
        "Carrying out the matrix multiplication, we obtain:\n",
        "\n",
        "$$ U \\left( \\left| \\psi_1 \\right\\rangle \\otimes \\left| \\psi_2 \\right\\rangle \\right) = \\begin{pmatrix} \\psi_{1_x} \\psi_{2_x} \\\\ a\\psi_{1_x} \\psi_{2_x} + b\\psi_{1_x} \\psi_{2_y} \\\\ -b\\psi_{1_y} \\psi_{2_x} + a\\psi_{1_y} \\psi_{2_y}  \\\\  \\psi_{1_y} \\psi_{2_y}  \\end{pmatrix} $$\n",
        "\n",
        "In general,\n",
        "\n",
        "$$ U_{total} = U_{rbs}^{(0,1)}(\\theta_0)\\cdot U_{rbs}^{(1,2)}(\\theta_1)\\cdot...\\cdot U_{rbs}^{(N-2,N-1)}(\\theta_{N-2})\\cdot U_{rbs}^{(N-1,0)}(\\theta_{N-1}) $$\n",
        "\n",
        "where $ U_{rbs}^{(i,j)}(\\theta_i)$ is the rotation operation between qubits $i$ and $j$ with angle $\\theta_i$.\n",
        "\n",
        "3. **Pooling layer:**\n",
        "\n",
        "Here, pooling layers are applied consisting of Controlled-Y gates, which halve the dimension of information in half of the qubits.\n",
        "\n",
        "For example, first, we apply CY to 10 qubits, leaving us with 5 CY gates applied to the first 5 qubits, controlled by the last 5 qubits. Then, the same is done over 5 qubits, making the first two qubits the target qubits and the remaining 3 qubits the control qubits.\n",
        "\n",
        "4. **Measurements:**\n",
        "\n",
        "Finally, the measurement of the expected value with respect to the observable is performed. In this case, the observables are:\n",
        "\n",
        "$$O_1 = \\begin{pmatrix} 1 & 0 & 0 & 0 \\\\ 0 & \\frac{1}{\\sqrt{2}} & \\frac{1}{\\sqrt{2}} & 0 \\\\ 0 & \\frac{1}{\\sqrt{2}} & -\\frac{1}{\\sqrt{2}} & 0 \\\\ 0 & 0 & 0 & 1     \\end{pmatrix} , \\quad \\quad O_2 = \\begin{pmatrix} 1 & 0 & 0 & 0 \\\\ 0 & -\\frac{1}{\\sqrt{2}} & \\frac{1}{\\sqrt{2}} & 0 \\\\ 0 & \\frac{1}{\\sqrt{2}} & \\frac{1}{\\sqrt{2}} & 0 \\\\ 0 & 0 & 0 & 1     \\end{pmatrix}$$\n",
        "\n",
        "This observable is measured with respect to the state of two qubits:\n",
        "\n",
        "$$⟨y⟩ = ⟨\\psi_1, \\psi_2|O|\\psi_1, \\psi_2 ⟩ $$\n",
        "\n",
        "Finally, this quantity is passed to the cost function to carry out the optimization process by updating the parameters \\( \\theta_i \\) with each epoch.\n"
      ],
      "metadata": {
        "id": "yZkYm-CXbxsq"
      }
    },
    {
      "cell_type": "code",
      "source": [
        "def embedding_layer(X):\n",
        "    for i in range(X.shape[0]):\n",
        "        qml.RZ(-1*X[i,2],wires=i)\n",
        "        qml.RY(X[i,0],wires=i)\n",
        "        qml.RX(X[i,1],wires=i)\n",
        "        qml.RZ(X[i,2],wires=i)\n",
        "\n",
        "def rbs(theta, wires):\n",
        "    a = np.cos(theta)\n",
        "    b = np.sin(theta)\n",
        "    #R = np.array([[1, 0, 0, 0], [0, a, b, 0], [0, -b, a, 0], [0, 0, 0, 1]], requires_grad=True)\n",
        "    R = np.array([[1, 0, 0, 0], [0, 1, 0, 0], [0,0, a, b], [0, 0, -b, a]], requires_grad=True)\n",
        "    qml.QubitUnitary(R, wires=wires)\n",
        "\n",
        "def XY_layer(N,params):\n",
        "    for i in range(N-1):\n",
        "#         qml.IsingXY(params[i],wires = [i,i+1])\n",
        "#     qml.IsingXY(params[N-1],wires = [N-1,0])\n",
        "        rbs(params[i],wires = [i,i+1])\n",
        "    rbs(params[N-1],wires = [N-1,0])\n",
        "\n",
        "def Y_pooling(N):\n",
        "    n2 = N//2\n",
        "    for i in range(n2):\n",
        "        qml.CY(wires=[i+n2, i])"
      ],
      "metadata": {
        "id": "oquOEadvlcsB"
      },
      "execution_count": null,
      "outputs": []
    },
    {
      "cell_type": "markdown",
      "source": [
        "**Aqui consideramos la matriz de rotacion de 2x2 que actua sobre un solo qubit**\n"
      ],
      "metadata": {
        "id": "D-SBUebswxWp"
      }
    },
    {
      "cell_type": "code",
      "source": [
        "## Aqui consideramos la matriz de rotacion de 2x2 que actua sobre un solo qubit\n",
        "\n",
        "#def rbs(theta, wires):\n",
        "#    a = np.cos(theta)\n",
        "#    b = np.sin(theta)\n",
        "#    R = np.array([ [a, b], [-b, a]], requires_grad=True)\n",
        "#    qml.QubitUnitary(R, wires=wires)\n",
        "\n",
        "#def XY_layer(N,params):\n",
        "#    for i in range(N-1):\n",
        "#        rbs(params[i],wires = [i])\n",
        "#    rbs(params[N-1],wires = [N-1])"
      ],
      "metadata": {
        "id": "VlYafkwW0Wnt"
      },
      "execution_count": null,
      "outputs": []
    },
    {
      "cell_type": "markdown",
      "source": [],
      "metadata": {
        "id": "VloTHHy8ZEZ9"
      }
    },
    {
      "cell_type": "code",
      "source": [
        "dev = qml.device(\"default.qubit\", wires=10)\n",
        "\n",
        "\n",
        "\n",
        "def process_data2(Data):\n",
        "    Data[:,:,0]*=(1/250)\n",
        "    Index = Data[:,:,2]-2*np.pi>0\n",
        "    Data[Index,2]-= 2*np.pi\n",
        "    Index2 = Data[:,:,2]<0\n",
        "    Data[Index2,2]+= 2*np.pi\n",
        "    Data[:,:,2]-=np.pi\n",
        "    return np.array(Data[:,:,:3])\n",
        "\n",
        "\n",
        "Path =  '/content/'\n",
        "\n",
        "# datos de quark-gluon\n",
        "Data = np.load(Path+'Sorted_10_data.npy')\n",
        "Label = np.load(Path+'Sorted_10_label.npy')\n",
        "Data = process_data2(Data)\n",
        "Label = np.array(Label).astype(int)\n",
        "\n",
        "Data = np.array(Data, requires_grad=False)\n",
        "Label = np.array(Label, requires_grad=False)\n",
        "\n",
        "idx = np.arange(Data.shape[0])\n",
        "np.random.shuffle(idx)\n",
        "Data,Label = Data[idx], Label[idx]\n",
        "\n",
        "Train_data, Train_label = Data[:700,:10,:], Label[:700]\n",
        "Test_data, Test_label = Data[700:800,:10,:], Label[700:800]\n",
        "\n",
        "\n",
        "#Train_data, Train_label = np.array(Train_data, requires_grad=False),np.array(Train_label, requires_grad=True)\n",
        "\n",
        "Train_data, Train_label = np.array(Train_data, requires_grad=False),np.array(Train_label, requires_grad=False)"
      ],
      "metadata": {
        "id": "8J-uREvIlfEV"
      },
      "execution_count": null,
      "outputs": []
    },
    {
      "cell_type": "code",
      "source": [
        "label_0 = [[np.sqrt(2), 0, 0, 0],\n",
        "        [0, 1, 1, 0],\n",
        "        [0, 1, -1, 0],\n",
        "        [0, 0, 0, np.sqrt(2)]]\n",
        "label_1 = [[np.sqrt(2), 0, 0, 0],\n",
        "        [0, -1, 1, 0],\n",
        "        [0, 1, 1, 0],\n",
        "        [0, 0, 0, np.sqrt(2)]]\n",
        "state_labels = np.array([label_0, label_1], requires_grad=False)\n",
        "\n",
        "def density_matrix(state):\n",
        "#     return state * np.conj(state).T\n",
        "    return state/np.sqrt(2)\n",
        "\n",
        "dev = qml.device(\"default.qubit\", wires=10)\n",
        "\n",
        "@qml.qnode(dev, interface=\"autograd\")\n",
        "\n",
        "#\n",
        "def qcircuit(params, x, y):\n",
        "#utilizamos data-reuploading\n",
        "#Tenemos 3 capas donde cada una consiste de subir los datos y agregar un bloque entrenable W\n",
        "#encoding the classical data\n",
        "    embedding_layer(x)\n",
        "#     XY_layer(10,params)\n",
        "\n",
        "# Trainable block\n",
        "    XY_layer(10,params[:10])\n",
        "\n",
        "# encoding the classical data\n",
        "    embedding_layer(x)\n",
        "\n",
        "# Trainable block\n",
        "    XY_layer(10,params[10:20])\n",
        "\n",
        "# Encoding classical data\n",
        "    embedding_layer(x)\n",
        "\n",
        "# Trainable block\n",
        "    XY_layer(10,params[20:30])\n",
        "\n",
        "\n",
        "# Usamos Y pooling para reducir la informacion de 10 qubits --> 5 qubits\n",
        "    Y_pooling(10)\n",
        "\n",
        "# Agregamos otra capa entrenable\n",
        "    XY_layer(5,params[30:35])\n",
        "\n",
        "# Usamos otro Y pooling para pasar la informacion de 5 qubits ---> 2 qubits\n",
        "    Y_pooling(5)\n",
        "\n",
        "# repetimos 4 qubits ---> 2 qubits\n",
        "    Y_pooling(4)\n",
        "\n",
        "# extra: entrelazamos el qubit 4 con el qubit 0\n",
        "    qml.CY(wires=[4, 0])\n",
        "\n",
        "#\n",
        "    return qml.expval(qml.Hermitian(y, wires=[0,1]))\n",
        "\n",
        "# THE QUANTUM CIRCUIT WORKS WITH THIS COST FUNCTION AND REDUCE THE LOSS\n",
        "def cost(params, x, y, state_labels=None):\n",
        "    # Compute prediction for each input in data batch\n",
        "    loss = 0.0\n",
        "    dm_labels = [density_matrix(s) for s in state_labels]\n",
        "    for i in range(len(x)):\n",
        "        f = qcircuit(params, x[i], dm_labels[y[i]])\n",
        "        #f = qml.math.toarray(f) if we use this, the model doesn't learn\n",
        "        loss = loss + (1 - f) ** 2\n",
        "    return loss / len(x)\n",
        "\n",
        "\n",
        "#def cost(params, x, y, state_labels=None):\n",
        "    # Convert y to float\n",
        "    #y = y.astype(float)\n",
        "#    qml.math.toarray(y)\n",
        "#    # Compute prediction for each input in data batch\n",
        "#    loss = 0.0\n",
        "#    dm_labels = [density_matrix(s) for s in state_labels]\n",
        "#    for i in range(len(x)):\n",
        "#        ypred = qcircuit(params, x[i], dm_labels[0])\n",
        "#        loss = loss  -y[i] * np.log(ypred, requires_grad=True) - (1 - y[i]) * np.log(1 - ypred, requires_grad=True)\n",
        "#    return loss / len(x)\n",
        "\n",
        "\n",
        "# ORIGINAL COST FUNCTION. TRAIN BUT NO REDUCE LOSS. IT'S FREEZE\n",
        "#def cost(params, x, y, state_labels=None):\n",
        "    # Compute prediction for each input in data batch\n",
        "\n",
        "#    loss = 0.0\n",
        "#    dm_labels = [density_matrix(s) for s in state_labels]\n",
        "#    for i in range(len(x)):\n",
        "#        ypred = qcircuit(params, x[i], dm_labels[0])\n",
        "        #----NEW\n",
        "#        ypred = qml.math.toarray(ypred)\n",
        "        #----\n",
        "#        loss = loss  -y[i] * np.log(ypred, requires_grad=True) - (1 - y[i]) * np.log(1 - ypred, requires_grad=True)\n",
        "#    return loss / len(x)\n",
        "\n",
        "def test(params, x, y, state_labels=None):\n",
        "    fidelity_values = []\n",
        "    dm_labels = [density_matrix(s) for s in state_labels]\n",
        "    predicted = []\n",
        "\n",
        "    for i in range(len(x)):\n",
        "#         fidel_function = lambda y: qcircuit(params, x[i], y)\n",
        "        fidelities = qcircuit(params, x[i], dm_labels[0])\n",
        "        best_fidel = np.rint(fidelities)\n",
        "\n",
        "        predicted.append(best_fidel)\n",
        "        fidelity_values.append(fidelities)\n",
        "\n",
        "    return np.array(predicted), np.array(fidelity_values)\n",
        "\n",
        "\n",
        "def accuracy_score(y_true, y_pred):\n",
        "    score = y_true == y_pred\n",
        "    return score.sum() / len(y_true)\n",
        "\n",
        "\n",
        "def iterate_minibatches(inputs, targets, batch_size):\n",
        "    for start_idx in range(0, inputs.shape[0] - batch_size + 1, batch_size):\n",
        "        idxs = slice(start_idx, start_idx + batch_size)\n",
        "        yield inputs[idxs], targets[idxs]"
      ],
      "metadata": {
        "id": "Ev0qUXAMlfB5"
      },
      "execution_count": null,
      "outputs": []
    },
    {
      "cell_type": "code",
      "source": [
        "plt.figure(figsize = (15,20))\n",
        "\n",
        "dm_labels = [density_matrix(s) for s in state_labels]\n",
        "params = np.random.uniform(size=35, requires_grad=True)\n",
        "\n",
        "\n",
        "\n",
        "qml.draw_mpl(qcircuit)(params, Train_data[0], dm_labels[0])\n",
        "plt.show()"
      ],
      "metadata": {
        "colab": {
          "base_uri": "https://localhost:8080/",
          "height": 327
        },
        "id": "H7Al29oSaCeG",
        "outputId": "914f00f0-bc47-4b12-eade-6dc1fb69b42d"
      },
      "execution_count": null,
      "outputs": [
        {
          "output_type": "display_data",
          "data": {
            "text/plain": [
              "<Figure size 1500x2000 with 0 Axes>"
            ]
          },
          "metadata": {}
        },
        {
          "output_type": "display_data",
          "data": {
            "text/plain": [
              "<Figure size 5700x1100 with 1 Axes>"
            ],
            "image/png": "[encoded data removed]"
          },
          "metadata": {}
        }
      ]
    },
    {
      "cell_type": "code",
      "source": [
        "learning_rate = 5e-3\n",
        "epochs = 1\n",
        "batch_size = 32\n",
        "# # initialize random weights\n",
        "params = np.random.uniform(size=35, requires_grad=True)\n",
        "opt = AdamOptimizer(learning_rate, beta1=0.9, beta2=0.999)\n",
        "best_val_accuracy = 0"
      ],
      "metadata": {
        "id": "mrgQrCKaCG0Y"
      },
      "execution_count": null,
      "outputs": []
    },
    {
      "cell_type": "code",
      "source": [
        "for it in range(epochs):\n",
        "#     print(params[:10])\n",
        "    for Xbatch, ybatch in iterate_minibatches(Train_data, Train_label, batch_size=batch_size):\n",
        "        params, _, _, _ = opt.step(cost, params, Xbatch, ybatch, state_labels)\n",
        "\n",
        "    predicted_train, fidel_train = test(params, Train_data, Train_label, state_labels)\n",
        "    accuracy_train = accuracy_score(Train_label, predicted_train)\n",
        "    loss = cost(params, Train_data, Train_label, state_labels)\n",
        "\n",
        "    predicted_test, fidel_test = test(params, Test_data, Test_label, state_labels)\n",
        "    accuracy_test = accuracy_score(Test_label, predicted_test)\n",
        "\n",
        "    if accuracy_test > best_val_accuracy:\n",
        "        best_params = params.copy()\n",
        "        best_val_accuracy = accuracy_test\n",
        "    res = [it + 1, loss, accuracy_train, accuracy_test]\n",
        "    print(\n",
        "        \"Epoch: {:2d} | Loss: {:3f} | Train accuracy: {:3f} | Test accuracy: {:3f}\".format(\n",
        "            *res\n",
        "        )\n",
        "    )"
      ],
      "metadata": {
        "colab": {
          "base_uri": "https://localhost:8080/"
        },
        "id": "qVHtQQNcle_Q",
        "outputId": "1059ca42-74f3-46a9-c903-e8eea3b89116"
      },
      "execution_count": null,
      "outputs": [
        {
          "output_type": "stream",
          "name": "stdout",
          "text": [
            "Epoch:  1 | Loss: 0.188773 | Train accuracy: 0.497143 | Test accuracy: 0.450000\n"
          ]
        }
      ]
    },
    {
      "cell_type": "markdown",
      "source": [
        "### chatgpt"
      ],
      "metadata": {
        "id": "mO8QKOtuUlSA"
      }
    },
    {
      "cell_type": "code",
      "source": [
        "import pennylane as qml\n",
        "from pennylane import numpy as np\n",
        "\n",
        "# Definir la simetrización sobre SO(2) usando discretización\n",
        "def so2_symmetry(params, num_steps=10):\n",
        "    angle_step = 2 * np.pi / num_steps\n",
        "    @qml.qnode(dev)\n",
        "    def circuit():\n",
        "        for i in range(num_steps):\n",
        "            angle = i * angle_step\n",
        "            qml.RZ(angle, wires=0)\n",
        "            # Aplicar la puerta U (por ejemplo, una rotación Rx)\n",
        "            qml.RX(params, wires=0)\n",
        "            # Aplicar la rotación inversa\n",
        "            qml.RZ(-angle, wires=0)\n",
        "        return qml.state()\n",
        "    return circuit\n",
        "\n",
        "# Definir el dispositivo\n",
        "dev = qml.device('default.qubit', wires=1)\n",
        "\n",
        "# Crear un circuito con la simetrización SO(2)\n",
        "@qml.qnode(dev)\n",
        "def variational_circuit(params):\n",
        "    # Aplicar la simetrización\n",
        "    so2_symmetry(params)\n",
        "    return qml.expval(qml.PauliZ(0))\n",
        "\n",
        "# Definir los parámetros iniciales\n",
        "params = np.array(0.1, requires_grad=True)\n",
        "\n",
        "# Ejecutar y optimizar el circuito\n",
        "opt = qml.GradientDescentOptimizer(stepsize=0.1)\n",
        "steps = 100\n",
        "for i in range(steps):\n",
        "    params, cost = opt.step_and_cost(variational_circuit, params)\n",
        "    if (i + 1) % 10 == 0:\n",
        "        print(f'Step {i+1}, Cost: {cost}, Params: {params}')\n",
        "\n",
        "print('Optimized parameters:', params)\n",
        "print('Optimized cost:', cost)\n"
      ],
      "metadata": {
        "id": "Gr6_aA9hle8v",
        "colab": {
          "base_uri": "https://localhost:8080/"
        },
        "outputId": "f5cd3560-cd6d-46ab-9bb8-3eaa9701017b"
      },
      "execution_count": null,
      "outputs": [
        {
          "output_type": "stream",
          "name": "stdout",
          "text": [
            "Step 10, Cost: 1.0, Params: 0.1\n",
            "Step 20, Cost: 1.0, Params: 0.1\n",
            "Step 30, Cost: 1.0, Params: 0.1\n",
            "Step 40, Cost: 1.0, Params: 0.1\n",
            "Step 50, Cost: 1.0, Params: 0.1\n",
            "Step 60, Cost: 1.0, Params: 0.1\n",
            "Step 70, Cost: 1.0, Params: 0.1\n",
            "Step 80, Cost: 1.0, Params: 0.1\n",
            "Step 90, Cost: 1.0, Params: 0.1\n",
            "Step 100, Cost: 1.0, Params: 0.1\n",
            "Optimized parameters: 0.1\n",
            "Optimized cost: 1.0\n"
          ]
        },
        {
          "output_type": "stream",
          "name": "stderr",
          "text": [
            "/usr/local/lib/python3.10/dist-packages/autograd/tracer.py:14: UserWarning: Output seems independent of input.\n",
            "  warnings.warn(\"Output seems independent of input.\")\n"
          ]
        }
      ]
    },
    {
      "cell_type": "markdown",
      "source": [
        "## SO(3)"
      ],
      "metadata": {
        "id": "euOo2zlykWxh"
      }
    },
    {
      "cell_type": "markdown",
      "source": [
        "The lie group SO(3) is the special orthogonal group of rotations in 3 dimensions. It is characterised by 3 rotation angles. The group may be represented by the following 3 matrices:\n",
        "\n",
        "$U_x(\\psi)=\\begin{pmatrix}\n",
        "1 & 0 & 0 \\\\\n",
        "0 & \\cos{\\psi} & \\sin{\\psi} \\\\\n",
        "0 & -\\sin{\\psi} & \\cos{\\psi} \\\\\n",
        "\\end{pmatrix}$\n",
        "\n",
        "$U_y(\\theta)=\\begin{pmatrix}\n",
        " \\cos{\\theta} & 0 & -\\sin{\\theta} \\\\\n",
        "0 & 1 & 0 \\\\\n",
        " -\\sin{\\theta} & 0 & \\cos{\\theta}\n",
        "\\end{pmatrix}$\n",
        "\n",
        "$U_z(\\phi)=\\begin{pmatrix}\n",
        " \\cos{\\phi} & \\sin{\\phi}& 0 \\\\\n",
        "-\\sin{\\phi} & \\cos{\\phi} & 0 \\\\\n",
        " 0 & 0 & 1\n",
        "\\end{pmatrix}$"
      ],
      "metadata": {
        "id": "-IHgL14fcSyI"
      }
    },
    {
      "cell_type": "code",
      "source": [],
      "metadata": {
        "id": "SmbwuXn7kYP1"
      },
      "execution_count": null,
      "outputs": []
    },
    {
      "cell_type": "markdown",
      "source": [
        "# SU(N)"
      ],
      "metadata": {
        "id": "gXoMEC1ibo8R"
      }
    },
    {
      "cell_type": "markdown",
      "source": [
        "## SU(2)"
      ],
      "metadata": {
        "id": "9xgIMQuUkE46"
      }
    },
    {
      "cell_type": "markdown",
      "source": [
        "The Special Unitary group, $SU(n)$, corresponds to the set of all the n x n matrix rotations $U(\\theta)$ with complex entries. Special comes from the fact that the rotations have determinant +1  and Unitary means that $U^† U = \\mathbb{I}$. Where $U^\\dagger=(U^*)^T$.\n",
        "\n",
        "Furthermore, because SU(n) is a Lie group then it has to obey the following properties:\n",
        "1. Rotation is linear. $U(v+w)=U(v)+U(w)$\n",
        "2. Preserves lengths and angles. $(Uv)\\cdot(Uw)= (Uv)^\\dagger (Uw)= v^\\dagger U^\\dagger U w = v^\\dagger w = v\\cdot w$.\n",
        "3. Preserves orientation. $det(U)=+1$\n",
        "\n",
        "$$SU(n) = \\{ U \\in U(n), det(U)=1 \\}$$\n"
      ],
      "metadata": {
        "id": "GqCqMnF1eNYH"
      }
    },
    {
      "cell_type": "markdown",
      "source": [
        "### SU(2) trainable"
      ],
      "metadata": {
        "id": "0AwfFs85bSLi"
      }
    },
    {
      "cell_type": "code",
      "execution_count": null,
      "metadata": {
        "id": "61OYUBFDiEo7"
      },
      "outputs": [],
      "source": [
        "class Spin_2(qml.operation.Operation):\n",
        "    num_wires = 2\n",
        "\n",
        "    @staticmethod\n",
        "    def compute_decomposition(theta, wires):\n",
        "        schur2 = np.array([\n",
        "            [1, 0, 0, 0],\n",
        "            [0, 1/np.sqrt(2), 1/np.sqrt(2), 0],\n",
        "            [0, 0, 0, 1],\n",
        "            [0, 1/np.sqrt(2), -1/np.sqrt(2), 0]\n",
        "        ])\n",
        "\n",
        "        return [qml.QubitUnitary(schur2, wires = wires),\n",
        "                qml.ControlledPhaseShift(theta, wires = wires),\n",
        "                qml.adjoint(qml.QubitUnitary)(schur2, wires = wires)]\n",
        "\n",
        "def create_singlet(i, j):\n",
        "    qml.Hadamard(wires=i)\n",
        "    qml.PauliZ(wires=i)\n",
        "    qml.CNOT(wires=[i, j])\n",
        "    qml.PauliX(wires=j)"
      ]
    },
    {
      "cell_type": "code",
      "source": [
        "def create_Heisenberg(N, J1, J2):\n",
        "    H = sum([J1 * qml.PauliZ(i) @ qml.PauliZ((i + 1) % N) for i in range(N)])\n",
        "    H += sum([J1 * qml.PauliX(i) @ qml.PauliX((i + 1) % N) for i in range(N)])\n",
        "    H += sum([J1 * qml.PauliY(i) @ qml.PauliY((i + 1) % N) for i in range(N)])\n",
        "\n",
        "    H += sum([J2 * qml.PauliZ(i) @ qml.PauliZ((i + 2) % N) for i in range(N)])\n",
        "    H += sum([J2 * qml.PauliX(i) @ qml.PauliX((i + 2) % N) for i in range(N)])\n",
        "    H += sum([J2 * qml.PauliY(i) @ qml.PauliY((i + 2) % N) for i in range(N)])\n",
        "\n",
        "    return H\n",
        "\n",
        "def prepare_init_state(N):\n",
        "    for i in range(0, N, 2):\n",
        "        create_singlet(i, i+1)"
      ],
      "metadata": {
        "id": "tj-psAWiZsjn"
      },
      "execution_count": null,
      "outputs": []
    },
    {
      "cell_type": "code",
      "source": [
        "dev = qml.device(\"default.qubit\", wires=4)\n",
        "N = 4\n",
        "\n",
        "ham = create_Heisenberg(N, 1.0, 0.44)\n",
        "# ham_sparse = qml.SparseHamiltonian(ham.sparse_matrix(), wires=range(N))\n",
        "\n",
        "@qml.qnode(dev)\n",
        "def circuit_2qubits(params):\n",
        "    prepare_init_state(N)\n",
        "\n",
        "#     p0 = [0.5,0.3,0.2]\n",
        "#     qml.Rot(*p0, wires=0)\n",
        "#     qml.Rot(*p0, wires=1)\n",
        "#     qml.Rot(*p0, wires=2)\n",
        "#     qml.Rot(*p0, wires=3)\n",
        "\n",
        "    k = 0\n",
        "    for l in range(4):\n",
        "        for i in range(0, N, 2):\n",
        "            Spin_2(params[k], wires=[i, (i + 1) % N])\n",
        "            k += 1\n",
        "\n",
        "        for i in range(1, N, 2):\n",
        "            Spin_2(params[k], wires=[i, (i + 1) % N])\n",
        "            k += 1\n",
        "\n",
        "        for i in range(0, N):\n",
        "            Spin_2(params[k], wires=[i, (i + 2) % N])\n",
        "            k += 1\n",
        "\n",
        "    return qml.expval(ham)"
      ],
      "metadata": {
        "id": "vHXgQ16tZshC"
      },
      "execution_count": null,
      "outputs": []
    },
    {
      "cell_type": "code",
      "source": [
        "#testing to see if the circuits is indeed SU(2) invariant under SU(2) rotation\n",
        "Params = np.random.rand(50, requires_grad=False)\n",
        "\n",
        "K = circuit_2qubits(Params)\n",
        "\n",
        "print(K)"
      ],
      "metadata": {
        "colab": {
          "base_uri": "https://localhost:8080/"
        },
        "id": "KjE1ZD1uZseX",
        "outputId": "dcce31de-9164-4e6b-a7a1-4162d86cf38e"
      },
      "execution_count": null,
      "outputs": [
        {
          "output_type": "stream",
          "name": "stdout",
          "text": [
            "-6.137918095990246\n"
          ]
        }
      ]
    },
    {
      "cell_type": "code",
      "source": [
        "# run this cell afer induce an overall rotation in the circuit\n",
        "@qml.qnode(dev)\n",
        "def circuit_2qubits(params):\n",
        "    prepare_init_state(N)\n",
        "\n",
        "    #some arbitrary parameters\n",
        "    p0 = [0.5,0.3,0.2]\n",
        "    qml.Rot(*p0, wires=0)\n",
        "    qml.Rot(*p0, wires=1)\n",
        "    qml.Rot(*p0, wires=2)\n",
        "    qml.Rot(*p0, wires=3)\n",
        "\n",
        "    k = 0\n",
        "    for l in range(4):\n",
        "        for i in range(0, N, 2):\n",
        "            Spin_2(params[k], wires=[i, (i + 1) % N])\n",
        "            k += 1\n",
        "\n",
        "        for i in range(1, N, 2):\n",
        "            Spin_2(params[k], wires=[i, (i + 1) % N])\n",
        "            k += 1\n",
        "\n",
        "        for i in range(0, N):\n",
        "            Spin_2(params[k], wires=[i, (i + 2) % N])\n",
        "            k += 1\n",
        "\n",
        "    return qml.expval(ham)\n",
        "\n",
        "K = circuit_2qubits(Params)\n",
        "\n",
        "print(K)"
      ],
      "metadata": {
        "colab": {
          "base_uri": "https://localhost:8080/"
        },
        "id": "oYFoDSYgZsbg",
        "outputId": "ef10b4bb-5622-4b23-eaee-e29af44beb57"
      },
      "execution_count": null,
      "outputs": [
        {
          "output_type": "stream",
          "name": "stdout",
          "text": [
            "-6.137918095990245\n"
          ]
        }
      ]
    },
    {
      "cell_type": "code",
      "source": [
        "@qml.qnode(dev)\n",
        "def circuit_2qubits(params):\n",
        "    prepare_init_state(N)\n",
        "\n",
        "    p0 = [0.5,0.3,0.2]\n",
        "    qml.Rot(*p0, wires=0)\n",
        "#     qml.Rot(*p0, wires=1)\n",
        "#     qml.Rot(*p0, wires=2)\n",
        "#     qml.Rot(*p0, wires=3)\n",
        "\n",
        "    k = 0\n",
        "    for l in range(4):\n",
        "        for i in range(0, N, 2):\n",
        "            Spin_2(params[k], wires=[i, (i + 1) % N])\n",
        "            k += 1\n",
        "\n",
        "        for i in range(1, N, 2):\n",
        "            Spin_2(params[k], wires=[i, (i + 1) % N])\n",
        "            k += 1\n",
        "\n",
        "        for i in range(0, N):\n",
        "            Spin_2(params[k], wires=[i, (i + 2) % N])\n",
        "            k += 1\n",
        "\n",
        "    return qml.expval(ham)\n",
        "\n",
        "K = circuit_2qubits(Params)\n",
        "\n",
        "print(K)"
      ],
      "metadata": {
        "colab": {
          "base_uri": "https://localhost:8080/"
        },
        "id": "F82aoYqpZsY7",
        "outputId": "4460f912-b4bf-42b6-fa3f-cbc03da8c125"
      },
      "execution_count": null,
      "outputs": [
        {
          "output_type": "stream",
          "name": "stdout",
          "text": [
            "-5.552278744318179\n"
          ]
        }
      ]
    },
    {
      "cell_type": "markdown",
      "source": [
        "### SU(2) untrainable"
      ],
      "metadata": {
        "id": "f-CJh1DFbV5q"
      }
    },
    {
      "cell_type": "code",
      "source": [
        "dev = qml.device(\"default.qubit\", wires=4)\n",
        "\n",
        "def levi_civita(i,j,k):\n",
        "    return (i-j)*(j-k)*(k-i)/2\n",
        "\n",
        "\n",
        "@qml.qnode(dev, interface = 'autograd')\n",
        "def qcircuit0(x,param, index):\n",
        "    p0 = [0.1,0.3,0.2]\n",
        "\n",
        "    qml.Rot(*x[0], wires=0)\n",
        "    qml.Rot(*x[1], wires=1)\n",
        "    qml.Rot(*x[2], wires=2)\n",
        "    qml.Rot(*x[3], wires=3)\n",
        "\n",
        "#     qml.Rot(*p0, wires=0)\n",
        "#     qml.Rot(*p0, wires=1)\n",
        "#     qml.Rot(*p0, wires=2)\n",
        "#     qml.Rot(*p0, wires=3)\n",
        "\n",
        "    #equivariant ops\n",
        "    qml.exp(qml.SWAP(wires=[0,1]), coeff=-0.5j*param[0])\n",
        "    qml.exp(qml.SWAP(wires=[2,3]), coeff=-0.5j*param[1])\n",
        "    qml.exp(qml.SWAP(wires=[1,2]), coeff=-0.5j*param[2])\n",
        "    qml.exp(qml.SWAP(wires=[3,0]), coeff=-0.5j*param[3])\n",
        "\n",
        "#     print(qml.density_matrix([0,1]))\n",
        "    if index==0:\n",
        "        return qml.density_matrix([0,1])\n",
        "    elif index==1:\n",
        "        return qml.density_matrix([2,3])\n",
        "    elif len(index)==2:\n",
        "        return qml.density_matrix([index[1]])\n",
        "\n",
        "dev2 = qml.device('default.mixed', wires=4)\n",
        "\n",
        "\n",
        "@qml.qnode(dev2, interface = 'autograd')\n",
        "\n",
        "def qcircuit1(rho,y, param):\n",
        "    qml.QubitDensityMatrix(rho, wires=[0,1])\n",
        "\n",
        "#     p0 = [0.1,0.3,0.2]\n",
        "#     qml.Rot(*p0, wires=0)\n",
        "#     qml.Rot(*p0, wires=1)\n",
        "#     qml.exp(qml.SWAP(wires=[0,1]), coeff=-0.5j*param[0])\n",
        "\n",
        "    return qml.expval(qml.Hermitian(y, wires=[0,1]))\n",
        "\n",
        "def compute_phis(rho , rhos, P):\n",
        "    phi1 = qml.matrix(np.trace(rho)*qml.Identity(wires = 0))/2\n",
        "    phi2 = rhos[0]-phi1\n",
        "    phi3 = rhos[1]-phi1\n",
        "    Pauli = [qml.matrix(qml.PauliX(wires = 0)+qml.PauliX(wires = 1)),qml.matrix(qml.PauliY(wires = 0)+qml.PauliY(wires = 1)),qml.matrix(qml.PauliZ(wires = 0)+qml.PauliZ(wires = 1))]\n",
        "    pauli =[qml.matrix(qml.PauliX(wires = 0)),qml.matrix(qml.PauliY(wires = 0)),qml.matrix(qml.PauliZ(wires = 0))]\n",
        "    phi4 = np.zeros((2,2),dtype='complex128')\n",
        "    for i,j,k in itertools.permutations([0,1,2]):\n",
        "        phi4+= np.trace(rho*Pauli[i]*Pauli[j])*levi_civita(i,j,k)*pauli[k]\n",
        "\n",
        "    return phi1+P[0]*phi2+P[1]*phi3+P[2]*phi4"
      ],
      "metadata": {
        "id": "_Nr3bAEJbWlo"
      },
      "execution_count": null,
      "outputs": []
    },
    {
      "cell_type": "code",
      "source": [
        "def full_circuit(X, Params, VectorParams):\n",
        "\n",
        "    Observ = qml.matrix(qml.SWAP(wires=[0,1]))\n",
        "    densities = np.zeros((2,4,4),dtype='complex128')\n",
        "    densities_single = np.zeros((4,2,2),dtype='complex128')\n",
        "    for i in range(2):\n",
        "        densities[i] = qcircuit0(x = X, param = Params,index=i)\n",
        "    for i in range(4):\n",
        "        densities_single[i] = qcircuit0(x = X, param = Params,index=[2,i])\n",
        "    phi0 = compute_phis(densities[0],densities_single[0:2],VectorParams[0])\n",
        "    phi1 = compute_phis(densities[1],densities_single[2:4],VectorParams[1])\n",
        "    Rho = np.kron(phi0,phi1)\n",
        "#     print(Rho)\n",
        "#    print(qml.math.purity(Rho, [0, 1]))\n",
        "    out = qcircuit1(Rho,y=Observ,param = [Params[-1]])\n",
        "\n",
        "    return out"
      ],
      "metadata": {
        "id": "WDQtCqFkbWjC"
      },
      "execution_count": null,
      "outputs": []
    },
    {
      "cell_type": "code",
      "source": [
        "import itertools\n",
        "\n",
        "Params = np.random.rand(5, requires_grad=False)\n",
        "VectorParams = np.random.rand(2,3, requires_grad=False)\n",
        "X = np.random.rand(4, 3, requires_grad=False)\n",
        "\n",
        "K = full_circuit(X, Params, VectorParams)\n",
        "print(K)"
      ],
      "metadata": {
        "colab": {
          "base_uri": "https://localhost:8080/"
        },
        "id": "E5r1A5t5bWfB",
        "outputId": "e32bb5c5-d36c-44f3-e81c-2e61bb3695f0"
      },
      "execution_count": null,
      "outputs": [
        {
          "output_type": "stream",
          "name": "stdout",
          "text": [
            "0.9784502304804135\n"
          ]
        }
      ]
    },
    {
      "cell_type": "code",
      "source": [
        "@qml.qnode(dev, interface = 'autograd')\n",
        "def qcircuit0(x,param, index):\n",
        "    p0 = [0.1,0.3,0.2]\n",
        "\n",
        "    qml.Rot(*x[0], wires=0)\n",
        "    qml.Rot(*x[1], wires=1)\n",
        "    qml.Rot(*x[2], wires=2)\n",
        "    qml.Rot(*x[3], wires=3)\n",
        "\n",
        "    qml.Rot(*p0, wires=0)\n",
        "    qml.Rot(*p0, wires=1)\n",
        "    qml.Rot(*p0, wires=2)\n",
        "    qml.Rot(*p0, wires=3)\n",
        "\n",
        "    #equivariant ops\n",
        "    qml.exp(qml.SWAP(wires=[0,1]), coeff=-0.5j*param[0])\n",
        "    qml.exp(qml.SWAP(wires=[2,3]), coeff=-0.5j*param[1])\n",
        "    qml.exp(qml.SWAP(wires=[1,2]), coeff=-0.5j*param[2])\n",
        "    qml.exp(qml.SWAP(wires=[3,0]), coeff=-0.5j*param[3])\n",
        "\n",
        "#     print(qml.density_matrix([0,1]))\n",
        "    if index==0:\n",
        "        return qml.density_matrix([0,1])\n",
        "    elif index==1:\n",
        "        return qml.density_matrix([2,3])\n",
        "    elif len(index)==2:\n",
        "        return qml.density_matrix([index[1]])\n",
        "\n",
        "K = full_circuit(X, Params, VectorParams)\n",
        "print(K)"
      ],
      "metadata": {
        "colab": {
          "base_uri": "https://localhost:8080/"
        },
        "id": "eUOWm7n3bWK3",
        "outputId": "d42e16cf-82bd-400c-8310-0b994bbf48e5"
      },
      "execution_count": null,
      "outputs": [
        {
          "output_type": "stream",
          "name": "stdout",
          "text": [
            "0.899925516100019\n"
          ]
        }
      ]
    },
    {
      "cell_type": "code",
      "source": [
        "qml.draw_mpl(full_circuit)(X,params,VectorParams)"
      ],
      "metadata": {
        "colab": {
          "base_uri": "https://localhost:8080/",
          "height": 287
        },
        "id": "exQgO5gQE2C2",
        "outputId": "8617df68-75fb-4a21-a557-316845048d92"
      },
      "execution_count": null,
      "outputs": [
        {
          "output_type": "error",
          "ename": "IndexError",
          "evalue": "too many indices for array: array is 0-dimensional, but 1 were indexed",
          "traceback": [
            "\u001b[0;31m---------------------------------------------------------------------------\u001b[0m",
            "\u001b[0;31mIndexError\u001b[0m                                Traceback (most recent call last)",
            "\u001b[0;32m<ipython-input-42-9aae1df583d5>\u001b[0m in \u001b[0;36m<cell line: 1>\u001b[0;34m()\u001b[0m\n\u001b[0;32m----> 1\u001b[0;31m \u001b[0mqml\u001b[0m\u001b[0;34m.\u001b[0m\u001b[0mdraw_mpl\u001b[0m\u001b[0;34m(\u001b[0m\u001b[0mfull_circuit\u001b[0m\u001b[0;34m)\u001b[0m\u001b[0;34m(\u001b[0m\u001b[0mX\u001b[0m\u001b[0;34m,\u001b[0m\u001b[0mparams\u001b[0m\u001b[0;34m,\u001b[0m\u001b[0mVectorParams\u001b[0m\u001b[0;34m)\u001b[0m\u001b[0;34m\u001b[0m\u001b[0;34m\u001b[0m\u001b[0m\n\u001b[0m",
            "\u001b[0;32m/usr/local/lib/python3.10/dist-packages/pennylane/drawer/draw.py\u001b[0m in \u001b[0;36mwrapper\u001b[0;34m(*args, **kwargs)\u001b[0m\n\u001b[1;32m    540\u001b[0m     \u001b[0;34m@\u001b[0m\u001b[0mwraps\u001b[0m\u001b[0;34m(\u001b[0m\u001b[0mqnode\u001b[0m\u001b[0;34m)\u001b[0m\u001b[0;34m\u001b[0m\u001b[0;34m\u001b[0m\u001b[0m\n\u001b[1;32m    541\u001b[0m     \u001b[0;32mdef\u001b[0m \u001b[0mwrapper\u001b[0m\u001b[0;34m(\u001b[0m\u001b[0;34m*\u001b[0m\u001b[0margs\u001b[0m\u001b[0;34m,\u001b[0m \u001b[0;34m**\u001b[0m\u001b[0mkwargs\u001b[0m\u001b[0;34m)\u001b[0m\u001b[0;34m:\u001b[0m\u001b[0;34m\u001b[0m\u001b[0;34m\u001b[0m\u001b[0m\n\u001b[0;32m--> 542\u001b[0;31m         \u001b[0mtape\u001b[0m \u001b[0;34m=\u001b[0m \u001b[0mqml\u001b[0m\u001b[0;34m.\u001b[0m\u001b[0mtape\u001b[0m\u001b[0;34m.\u001b[0m\u001b[0mmake_qscript\u001b[0m\u001b[0;34m(\u001b[0m\u001b[0mqnode\u001b[0m\u001b[0;34m)\u001b[0m\u001b[0;34m(\u001b[0m\u001b[0;34m*\u001b[0m\u001b[0margs\u001b[0m\u001b[0;34m,\u001b[0m \u001b[0;34m**\u001b[0m\u001b[0mkwargs\u001b[0m\u001b[0;34m)\u001b[0m\u001b[0;34m\u001b[0m\u001b[0;34m\u001b[0m\u001b[0m\n\u001b[0m\u001b[1;32m    543\u001b[0m         \u001b[0m_wire_order\u001b[0m \u001b[0;34m=\u001b[0m \u001b[0mwire_order\u001b[0m \u001b[0;32mor\u001b[0m \u001b[0mtape\u001b[0m\u001b[0;34m.\u001b[0m\u001b[0mwires\u001b[0m\u001b[0;34m\u001b[0m\u001b[0;34m\u001b[0m\u001b[0m\n\u001b[1;32m    544\u001b[0m \u001b[0;34m\u001b[0m\u001b[0m\n",
            "\u001b[0;32m/usr/local/lib/python3.10/dist-packages/pennylane/tape/qscript.py\u001b[0m in \u001b[0;36mwrapper\u001b[0;34m(*args, **kwargs)\u001b[0m\n\u001b[1;32m   1225\u001b[0m     \u001b[0;32mdef\u001b[0m \u001b[0mwrapper\u001b[0m\u001b[0;34m(\u001b[0m\u001b[0;34m*\u001b[0m\u001b[0margs\u001b[0m\u001b[0;34m,\u001b[0m \u001b[0;34m**\u001b[0m\u001b[0mkwargs\u001b[0m\u001b[0;34m)\u001b[0m\u001b[0;34m:\u001b[0m\u001b[0;34m\u001b[0m\u001b[0;34m\u001b[0m\u001b[0m\n\u001b[1;32m   1226\u001b[0m         \u001b[0;32mwith\u001b[0m \u001b[0mAnnotatedQueue\u001b[0m\u001b[0;34m(\u001b[0m\u001b[0;34m)\u001b[0m \u001b[0;32mas\u001b[0m \u001b[0mq\u001b[0m\u001b[0;34m:\u001b[0m\u001b[0;34m\u001b[0m\u001b[0;34m\u001b[0m\u001b[0m\n\u001b[0;32m-> 1227\u001b[0;31m             \u001b[0mfn\u001b[0m\u001b[0;34m(\u001b[0m\u001b[0;34m*\u001b[0m\u001b[0margs\u001b[0m\u001b[0;34m,\u001b[0m \u001b[0;34m**\u001b[0m\u001b[0mkwargs\u001b[0m\u001b[0;34m)\u001b[0m\u001b[0;34m\u001b[0m\u001b[0;34m\u001b[0m\u001b[0m\n\u001b[0m\u001b[1;32m   1228\u001b[0m \u001b[0;34m\u001b[0m\u001b[0m\n\u001b[1;32m   1229\u001b[0m         \u001b[0;32mreturn\u001b[0m \u001b[0mQuantumScript\u001b[0m\u001b[0;34m.\u001b[0m\u001b[0mfrom_queue\u001b[0m\u001b[0;34m(\u001b[0m\u001b[0mq\u001b[0m\u001b[0;34m,\u001b[0m \u001b[0mshots\u001b[0m\u001b[0;34m)\u001b[0m\u001b[0;34m\u001b[0m\u001b[0;34m\u001b[0m\u001b[0m\n",
            "\u001b[0;32m<ipython-input-37-dd00f74902cc>\u001b[0m in \u001b[0;36mfull_circuit\u001b[0;34m(X, Params, VectorParams)\u001b[0m\n\u001b[1;32m      5\u001b[0m     \u001b[0mdensities_single\u001b[0m \u001b[0;34m=\u001b[0m \u001b[0mnp\u001b[0m\u001b[0;34m.\u001b[0m\u001b[0mzeros\u001b[0m\u001b[0;34m(\u001b[0m\u001b[0;34m(\u001b[0m\u001b[0;36m4\u001b[0m\u001b[0;34m,\u001b[0m\u001b[0;36m2\u001b[0m\u001b[0;34m,\u001b[0m\u001b[0;36m2\u001b[0m\u001b[0;34m)\u001b[0m\u001b[0;34m,\u001b[0m\u001b[0mdtype\u001b[0m\u001b[0;34m=\u001b[0m\u001b[0;34m'complex128'\u001b[0m\u001b[0;34m)\u001b[0m\u001b[0;34m\u001b[0m\u001b[0;34m\u001b[0m\u001b[0m\n\u001b[1;32m      6\u001b[0m     \u001b[0;32mfor\u001b[0m \u001b[0mi\u001b[0m \u001b[0;32min\u001b[0m \u001b[0mrange\u001b[0m\u001b[0;34m(\u001b[0m\u001b[0;36m2\u001b[0m\u001b[0;34m)\u001b[0m\u001b[0;34m:\u001b[0m\u001b[0;34m\u001b[0m\u001b[0;34m\u001b[0m\u001b[0m\n\u001b[0;32m----> 7\u001b[0;31m         \u001b[0mdensities\u001b[0m\u001b[0;34m[\u001b[0m\u001b[0mi\u001b[0m\u001b[0;34m]\u001b[0m \u001b[0;34m=\u001b[0m \u001b[0mqcircuit0\u001b[0m\u001b[0;34m(\u001b[0m\u001b[0mx\u001b[0m \u001b[0;34m=\u001b[0m \u001b[0mX\u001b[0m\u001b[0;34m,\u001b[0m \u001b[0mparam\u001b[0m \u001b[0;34m=\u001b[0m \u001b[0mParams\u001b[0m\u001b[0;34m,\u001b[0m\u001b[0mindex\u001b[0m\u001b[0;34m=\u001b[0m\u001b[0mi\u001b[0m\u001b[0;34m)\u001b[0m\u001b[0;34m\u001b[0m\u001b[0;34m\u001b[0m\u001b[0m\n\u001b[0m\u001b[1;32m      8\u001b[0m     \u001b[0;32mfor\u001b[0m \u001b[0mi\u001b[0m \u001b[0;32min\u001b[0m \u001b[0mrange\u001b[0m\u001b[0;34m(\u001b[0m\u001b[0;36m4\u001b[0m\u001b[0;34m)\u001b[0m\u001b[0;34m:\u001b[0m\u001b[0;34m\u001b[0m\u001b[0;34m\u001b[0m\u001b[0m\n\u001b[1;32m      9\u001b[0m         \u001b[0mdensities_single\u001b[0m\u001b[0;34m[\u001b[0m\u001b[0mi\u001b[0m\u001b[0;34m]\u001b[0m \u001b[0;34m=\u001b[0m \u001b[0mqcircuit0\u001b[0m\u001b[0;34m(\u001b[0m\u001b[0mx\u001b[0m \u001b[0;34m=\u001b[0m \u001b[0mX\u001b[0m\u001b[0;34m,\u001b[0m \u001b[0mparam\u001b[0m \u001b[0;34m=\u001b[0m \u001b[0mParams\u001b[0m\u001b[0;34m,\u001b[0m\u001b[0mindex\u001b[0m\u001b[0;34m=\u001b[0m\u001b[0;34m[\u001b[0m\u001b[0;36m2\u001b[0m\u001b[0;34m,\u001b[0m\u001b[0mi\u001b[0m\u001b[0;34m]\u001b[0m\u001b[0;34m)\u001b[0m\u001b[0;34m\u001b[0m\u001b[0;34m\u001b[0m\u001b[0m\n",
            "\u001b[0;32m/usr/local/lib/python3.10/dist-packages/pennylane/workflow/qnode.py\u001b[0m in \u001b[0;36m__call__\u001b[0;34m(self, *args, **kwargs)\u001b[0m\n\u001b[1;32m   1000\u001b[0m \u001b[0;34m\u001b[0m\u001b[0m\n\u001b[1;32m   1001\u001b[0m         \u001b[0;31m# construct the tape\u001b[0m\u001b[0;34m\u001b[0m\u001b[0;34m\u001b[0m\u001b[0m\n\u001b[0;32m-> 1002\u001b[0;31m         \u001b[0mself\u001b[0m\u001b[0;34m.\u001b[0m\u001b[0mconstruct\u001b[0m\u001b[0;34m(\u001b[0m\u001b[0margs\u001b[0m\u001b[0;34m,\u001b[0m \u001b[0mkwargs\u001b[0m\u001b[0;34m)\u001b[0m\u001b[0;34m\u001b[0m\u001b[0;34m\u001b[0m\u001b[0m\n\u001b[0m\u001b[1;32m   1003\u001b[0m \u001b[0;34m\u001b[0m\u001b[0m\n\u001b[1;32m   1004\u001b[0m         \u001b[0mcache\u001b[0m \u001b[0;34m=\u001b[0m \u001b[0mself\u001b[0m\u001b[0;34m.\u001b[0m\u001b[0mexecute_kwargs\u001b[0m\u001b[0;34m.\u001b[0m\u001b[0mget\u001b[0m\u001b[0;34m(\u001b[0m\u001b[0;34m\"cache\"\u001b[0m\u001b[0;34m,\u001b[0m \u001b[0;32mFalse\u001b[0m\u001b[0;34m)\u001b[0m\u001b[0;34m\u001b[0m\u001b[0;34m\u001b[0m\u001b[0m\n",
            "\u001b[0;32m/usr/local/lib/python3.10/dist-packages/pennylane/workflow/qnode.py\u001b[0m in \u001b[0;36mconstruct\u001b[0;34m(self, args, kwargs)\u001b[0m\n\u001b[1;32m    886\u001b[0m \u001b[0;34m\u001b[0m\u001b[0m\n\u001b[1;32m    887\u001b[0m         \u001b[0;32mwith\u001b[0m \u001b[0mqml\u001b[0m\u001b[0;34m.\u001b[0m\u001b[0mqueuing\u001b[0m\u001b[0;34m.\u001b[0m\u001b[0mAnnotatedQueue\u001b[0m\u001b[0;34m(\u001b[0m\u001b[0;34m)\u001b[0m \u001b[0;32mas\u001b[0m \u001b[0mq\u001b[0m\u001b[0;34m:\u001b[0m\u001b[0;34m\u001b[0m\u001b[0;34m\u001b[0m\u001b[0m\n\u001b[0;32m--> 888\u001b[0;31m             \u001b[0mself\u001b[0m\u001b[0;34m.\u001b[0m\u001b[0m_qfunc_output\u001b[0m \u001b[0;34m=\u001b[0m \u001b[0mself\u001b[0m\u001b[0;34m.\u001b[0m\u001b[0mfunc\u001b[0m\u001b[0;34m(\u001b[0m\u001b[0;34m*\u001b[0m\u001b[0margs\u001b[0m\u001b[0;34m,\u001b[0m \u001b[0;34m**\u001b[0m\u001b[0mkwargs\u001b[0m\u001b[0;34m)\u001b[0m\u001b[0;34m\u001b[0m\u001b[0;34m\u001b[0m\u001b[0m\n\u001b[0m\u001b[1;32m    889\u001b[0m \u001b[0;34m\u001b[0m\u001b[0m\n\u001b[1;32m    890\u001b[0m         \u001b[0mself\u001b[0m\u001b[0;34m.\u001b[0m\u001b[0m_tape\u001b[0m \u001b[0;34m=\u001b[0m \u001b[0mQuantumScript\u001b[0m\u001b[0;34m.\u001b[0m\u001b[0mfrom_queue\u001b[0m\u001b[0;34m(\u001b[0m\u001b[0mq\u001b[0m\u001b[0;34m,\u001b[0m \u001b[0mshots\u001b[0m\u001b[0;34m)\u001b[0m\u001b[0;34m\u001b[0m\u001b[0;34m\u001b[0m\u001b[0m\n",
            "\u001b[0;32m<ipython-input-39-11c94b806c14>\u001b[0m in \u001b[0;36mqcircuit0\u001b[0;34m(x, param, index)\u001b[0m\n\u001b[1;32m     14\u001b[0m \u001b[0;34m\u001b[0m\u001b[0m\n\u001b[1;32m     15\u001b[0m     \u001b[0;31m#equivariant ops\u001b[0m\u001b[0;34m\u001b[0m\u001b[0;34m\u001b[0m\u001b[0m\n\u001b[0;32m---> 16\u001b[0;31m     \u001b[0mqml\u001b[0m\u001b[0;34m.\u001b[0m\u001b[0mexp\u001b[0m\u001b[0;34m(\u001b[0m\u001b[0mqml\u001b[0m\u001b[0;34m.\u001b[0m\u001b[0mSWAP\u001b[0m\u001b[0;34m(\u001b[0m\u001b[0mwires\u001b[0m\u001b[0;34m=\u001b[0m\u001b[0;34m[\u001b[0m\u001b[0;36m0\u001b[0m\u001b[0;34m,\u001b[0m\u001b[0;36m1\u001b[0m\u001b[0;34m]\u001b[0m\u001b[0;34m)\u001b[0m\u001b[0;34m,\u001b[0m \u001b[0mcoeff\u001b[0m\u001b[0;34m=\u001b[0m\u001b[0;34m-\u001b[0m\u001b[0;36m0.5j\u001b[0m\u001b[0;34m*\u001b[0m\u001b[0mparam\u001b[0m\u001b[0;34m[\u001b[0m\u001b[0;36m0\u001b[0m\u001b[0;34m]\u001b[0m\u001b[0;34m)\u001b[0m\u001b[0;34m\u001b[0m\u001b[0;34m\u001b[0m\u001b[0m\n\u001b[0m\u001b[1;32m     17\u001b[0m     \u001b[0mqml\u001b[0m\u001b[0;34m.\u001b[0m\u001b[0mexp\u001b[0m\u001b[0;34m(\u001b[0m\u001b[0mqml\u001b[0m\u001b[0;34m.\u001b[0m\u001b[0mSWAP\u001b[0m\u001b[0;34m(\u001b[0m\u001b[0mwires\u001b[0m\u001b[0;34m=\u001b[0m\u001b[0;34m[\u001b[0m\u001b[0;36m2\u001b[0m\u001b[0;34m,\u001b[0m\u001b[0;36m3\u001b[0m\u001b[0;34m]\u001b[0m\u001b[0;34m)\u001b[0m\u001b[0;34m,\u001b[0m \u001b[0mcoeff\u001b[0m\u001b[0;34m=\u001b[0m\u001b[0;34m-\u001b[0m\u001b[0;36m0.5j\u001b[0m\u001b[0;34m*\u001b[0m\u001b[0mparam\u001b[0m\u001b[0;34m[\u001b[0m\u001b[0;36m1\u001b[0m\u001b[0;34m]\u001b[0m\u001b[0;34m)\u001b[0m\u001b[0;34m\u001b[0m\u001b[0;34m\u001b[0m\u001b[0m\n\u001b[1;32m     18\u001b[0m     \u001b[0mqml\u001b[0m\u001b[0;34m.\u001b[0m\u001b[0mexp\u001b[0m\u001b[0;34m(\u001b[0m\u001b[0mqml\u001b[0m\u001b[0;34m.\u001b[0m\u001b[0mSWAP\u001b[0m\u001b[0;34m(\u001b[0m\u001b[0mwires\u001b[0m\u001b[0;34m=\u001b[0m\u001b[0;34m[\u001b[0m\u001b[0;36m1\u001b[0m\u001b[0;34m,\u001b[0m\u001b[0;36m2\u001b[0m\u001b[0;34m]\u001b[0m\u001b[0;34m)\u001b[0m\u001b[0;34m,\u001b[0m \u001b[0mcoeff\u001b[0m\u001b[0;34m=\u001b[0m\u001b[0;34m-\u001b[0m\u001b[0;36m0.5j\u001b[0m\u001b[0;34m*\u001b[0m\u001b[0mparam\u001b[0m\u001b[0;34m[\u001b[0m\u001b[0;36m2\u001b[0m\u001b[0;34m]\u001b[0m\u001b[0;34m)\u001b[0m\u001b[0;34m\u001b[0m\u001b[0;34m\u001b[0m\u001b[0m\n",
            "\u001b[0;32m/usr/local/lib/python3.10/dist-packages/pennylane/numpy/tensor.py\u001b[0m in \u001b[0;36m__getitem__\u001b[0;34m(self, *args, **kwargs)\u001b[0m\n\u001b[1;32m    185\u001b[0m \u001b[0;34m\u001b[0m\u001b[0m\n\u001b[1;32m    186\u001b[0m     \u001b[0;32mdef\u001b[0m \u001b[0m__getitem__\u001b[0m\u001b[0;34m(\u001b[0m\u001b[0mself\u001b[0m\u001b[0;34m,\u001b[0m \u001b[0;34m*\u001b[0m\u001b[0margs\u001b[0m\u001b[0;34m,\u001b[0m \u001b[0;34m**\u001b[0m\u001b[0mkwargs\u001b[0m\u001b[0;34m)\u001b[0m\u001b[0;34m:\u001b[0m\u001b[0;34m\u001b[0m\u001b[0;34m\u001b[0m\u001b[0m\n\u001b[0;32m--> 187\u001b[0;31m         \u001b[0mitem\u001b[0m \u001b[0;34m=\u001b[0m \u001b[0msuper\u001b[0m\u001b[0;34m(\u001b[0m\u001b[0;34m)\u001b[0m\u001b[0;34m.\u001b[0m\u001b[0m__getitem__\u001b[0m\u001b[0;34m(\u001b[0m\u001b[0;34m*\u001b[0m\u001b[0margs\u001b[0m\u001b[0;34m,\u001b[0m \u001b[0;34m**\u001b[0m\u001b[0mkwargs\u001b[0m\u001b[0;34m)\u001b[0m\u001b[0;34m\u001b[0m\u001b[0;34m\u001b[0m\u001b[0m\n\u001b[0m\u001b[1;32m    188\u001b[0m \u001b[0;34m\u001b[0m\u001b[0m\n\u001b[1;32m    189\u001b[0m         \u001b[0;32mif\u001b[0m \u001b[0;32mnot\u001b[0m \u001b[0misinstance\u001b[0m\u001b[0;34m(\u001b[0m\u001b[0mitem\u001b[0m\u001b[0;34m,\u001b[0m \u001b[0mtensor\u001b[0m\u001b[0;34m)\u001b[0m\u001b[0;34m:\u001b[0m\u001b[0;34m\u001b[0m\u001b[0;34m\u001b[0m\u001b[0m\n",
            "\u001b[0;31mIndexError\u001b[0m: too many indices for array: array is 0-dimensional, but 1 were indexed"
          ]
        }
      ]
    },
    {
      "cell_type": "code",
      "source": [
        "@qml.qnode(dev2, interface = 'autograd')\n",
        "def qcircuit1(rho,y, param):\n",
        "    qml.QubitDensityMatrix(rho, wires=[0,1])\n",
        "\n",
        "#     p0 = [0.1,0.3,0.2]\n",
        "#     qml.Rot(*p0, wires=0)\n",
        "#     qml.Rot(*p0, wires=1)\n",
        "#     qml.exp(qml.SWAP(wires=[0,1]), coeff=-0.5j*param[0])\n",
        "\n",
        "    return qml.expval(qml.Hermitian(y, wires=[0,1]))\n",
        "\n",
        "K = full_circuit(X, Params, VectorParams)\n",
        "print(K)"
      ],
      "metadata": {
        "colab": {
          "base_uri": "https://localhost:8080/"
        },
        "id": "XOPUTVvFbl5T",
        "outputId": "b2afc061-d5f1-4c04-98c0-009fb0f15f27"
      },
      "execution_count": null,
      "outputs": [
        {
          "output_type": "stream",
          "name": "stdout",
          "text": [
            "0.899925516100019\n"
          ]
        }
      ]
    },
    {
      "cell_type": "markdown",
      "source": [
        "## SU(3)"
      ],
      "metadata": {
        "id": "YomFV7WmkIgq"
      }
    },
    {
      "cell_type": "code",
      "source": [],
      "metadata": {
        "id": "IW50_xgCkY36"
      },
      "execution_count": null,
      "outputs": []
    },
    {
      "cell_type": "code",
      "source": [],
      "metadata": {
        "id": "8feaJO4ukZj9"
      },
      "execution_count": null,
      "outputs": []
    }
  ]
}