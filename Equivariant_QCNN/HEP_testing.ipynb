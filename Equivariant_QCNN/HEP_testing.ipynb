{
 "cells": [
  {
   "cell_type": "code",
   "execution_count": 3,
   "metadata": {},
   "outputs": [],
   "source": [
    "from Equivariant_QCNN.Result.models.QCNN_circuit import QCNN\n",
    "from Equivariant_QCNN.data.data import data_load_and_process\n",
    "import Equivariant_QCNN.Result.models.utils.embedding as embedding\n",
    "from sklearn.model_selection import train_test_split\n",
    "import tensorflow as tf\n",
    "import matplotlib.pyplot as plt\n",
    "import numpy as np\n",
    "from Equivariant_QCNN.training.Training import circuit_training\n",
    "from Equivariant_QCNN.benchmarking.Benchmarking import accuracy_test, round_predictions_f\n",
    "from sklearn.metrics import confusion_matrix, ConfusionMatrixDisplay\n",
    "import h5py"
   ]
  },
  {
   "cell_type": "code",
   "execution_count": null,
   "metadata": {},
   "outputs": [],
   "source": [
    "def electron_photon():\n",
    "    file_path_electron = \"/home/lazaror/quantum/pruebas/Takhur_QCNN/Equivariant_QCNN/hep_data/electron.hdf5\"\n",
    "    with h5py.File(file_path_electron, \"r\") as file:\n",
    "        X_e = np.array(file[\"X\"])\n",
    "        y_e = np.array(file[\"y\"])\n",
    "\n",
    "    file_path_photon = \"/home/lazaror/quantum/pruebas/Takhur_QCNN/Equivariant_QCNN/hep_data/photon.hdf5\"\n",
    "    with h5py.File(file_path_photon, \"r\") as file:\n",
    "        X_p = np.array(file[\"X\"])\n",
    "        y_p = np.array(file[\"y\"])\n",
    "\n",
    "    # Combinar los datos de electrones y fotones\n",
    "    X = np.concatenate((X_e, X_p), axis=0)\n",
    "    y = np.concatenate((y_e, y_p), axis=0)\n",
    "\n",
    "    # Dividir los datos en conjuntos de entrenamiento y prueba\n",
    "    X_train, X_test, y_train, y_test = train_test_split(X, y, test_size=0.2, random_state=42, stratify=y)\n",
    "\n",
    "    # Convertir los datos a tensores de TensorFlow\n",
    "    X_train = tf.convert_to_tensor(X_train, dtype=tf.float32)\n",
    "    X_test = tf.convert_to_tensor(X_test, dtype=tf.float32)\n",
    "    Y_train = tf.convert_to_tensor(y_train, dtype=tf.float32)\n",
    "    Y_test = tf.convert_to_tensor(y_test, dtype=tf.float32)\n",
    "\n",
    "    print(f\"Shape of X_train: {X_train.shape}\")\n",
    "    print(f\"Shape of X_test: {X_test.shape}\")\n",
    "    print(f\"Shape of y_train: {Y_train.shape}\")\n",
    "    print(f\"Shape of y_test: {Y_test.shape}\")\n",
    "\n",
    "    return X_train, X_test, Y_train, Y_test \n"
   ]
  },
  {
   "cell_type": "code",
   "execution_count": 4,
   "metadata": {},
   "outputs": [
    {
     "data": {
      "text/plain": [
       "array([[[0., 0.],\n",
       "        [0., 0.],\n",
       "        [0., 0.],\n",
       "        ...,\n",
       "        [0., 0.],\n",
       "        [0., 0.],\n",
       "        [0., 0.]],\n",
       "\n",
       "       [[0., 0.],\n",
       "        [0., 0.],\n",
       "        [0., 0.],\n",
       "        ...,\n",
       "        [0., 0.],\n",
       "        [0., 0.],\n",
       "        [0., 0.]],\n",
       "\n",
       "       [[0., 0.],\n",
       "        [0., 0.],\n",
       "        [0., 0.],\n",
       "        ...,\n",
       "        [0., 0.],\n",
       "        [0., 0.],\n",
       "        [0., 0.]],\n",
       "\n",
       "       ...,\n",
       "\n",
       "       [[0., 0.],\n",
       "        [0., 0.],\n",
       "        [0., 0.],\n",
       "        ...,\n",
       "        [0., 0.],\n",
       "        [0., 0.],\n",
       "        [0., 0.]],\n",
       "\n",
       "       [[0., 0.],\n",
       "        [0., 0.],\n",
       "        [0., 0.],\n",
       "        ...,\n",
       "        [0., 0.],\n",
       "        [0., 0.],\n",
       "        [0., 0.]],\n",
       "\n",
       "       [[0., 0.],\n",
       "        [0., 0.],\n",
       "        [0., 0.],\n",
       "        ...,\n",
       "        [0., 0.],\n",
       "        [0., 0.],\n",
       "        [0., 0.]]], dtype=float32)"
      ]
     },
     "execution_count": 4,
     "metadata": {},
     "output_type": "execute_result"
    }
   ],
   "source": [
    "file_path_electron = \"/home/lazaror/quantum/pruebas/Takhur_QCNN/Equivariant_QCNN/hep_data/electron.hdf5\"\n",
    "with h5py.File(file_path_electron, \"r\") as file:\n",
    "    X_e = np.array(file[\"X\"])\n",
    "    y_e = np.array(file[\"y\"])\n",
    "\n",
    "X_e[0]"
   ]
  },
  {
   "cell_type": "code",
   "execution_count": 20,
   "metadata": {},
   "outputs": [
    {
     "data": {
      "image/png": "[encoded data removed]",
      "text/plain": [
       "<Figure size 640x480 with 1 Axes>"
      ]
     },
     "metadata": {},
     "output_type": "display_data"
    },
    {
     "data": {
      "image/png": "[encoded data removed]",
      "text/plain": [
       "<Figure size 640x480 with 1 Axes>"
      ]
     },
     "metadata": {},
     "output_type": "display_data"
    }
   ],
   "source": [
    "plt.imshow(X_e[0][:,:,0], cmap = \"inferno\"), \n",
    "plt.show()\n",
    "plt.imshow(X_e[0][:,:,1], cmap = \"inferno\")\n",
    "plt.show()"
   ]
  }
 ],
 "metadata": {
  "kernelspec": {
   "display_name": "eqnn_github_env",
   "language": "python",
   "name": "python3"
  },
  "language_info": {
   "codemirror_mode": {
    "name": "ipython",
    "version": 3
   },
   "file_extension": ".py",
   "mimetype": "text/x-python",
   "name": "python",
   "nbconvert_exporter": "python",
   "pygments_lexer": "ipython3",
   "version": "3.10.13"
  }
 },
 "nbformat": 4,
 "nbformat_minor": 2
}
